{
 "cells": [
  {
   "cell_type": "code",
   "execution_count": 9,
   "id": "3d12daea-0a1a-464c-be8d-84b137504508",
   "metadata": {
    "tags": []
   },
   "outputs": [],
   "source": [
    "PROJECT_ID = !(gcloud config get-value core/project)\n",
    "PROJECT_ID = PROJECT_ID[0]\n",
    "REGION = 'us-central1'\n",
    "BUCKET_URI = 'gs://kubeflow-mlops-410520-cloudbuild-pipelines'"
   ]
  },
  {
   "cell_type": "code",
   "execution_count": 10,
   "id": "96e0c52a-f6dc-4058-83d6-bf78d085478b",
   "metadata": {
    "tags": []
   },
   "outputs": [
    {
     "data": {
      "text/plain": [
       "'kubeflow-mlops-410520'"
      ]
     },
     "execution_count": 10,
     "metadata": {},
     "output_type": "execute_result"
    }
   ],
   "source": [
    "PROJECT_ID"
   ]
  },
  {
   "cell_type": "markdown",
   "id": "ac839762-4168-4b44-9a6b-1d08a46ac1f6",
   "metadata": {
    "jp-MarkdownHeadingCollapsed": true,
    "tags": []
   },
   "source": [
    "## Create Dockerfile"
   ]
  },
  {
   "cell_type": "code",
   "execution_count": 2,
   "id": "df36c0c5-3744-4563-9383-3bd8f4d4ac2a",
   "metadata": {
    "tags": []
   },
   "outputs": [
    {
     "name": "stdout",
     "output_type": "stream",
     "text": [
      "Overwriting kfp-cli/Dockerfile\n"
     ]
    }
   ],
   "source": [
    "%%writefile kfp-cli/Dockerfile\n",
    "\n",
    "\n",
    "FROM gcr.io/deeplearning-platform-release/base-cpu\n",
    "WORKDIR /kfp-cli\n",
    "ADD pipeline.py ./pipeline.py\n",
    "ADD requirements.txt ./requirements.txt\n",
    "RUN pip install -r requirements.txt\n",
    "CMD python ./pipeline.py\n"
   ]
  },
  {
   "cell_type": "markdown",
   "id": "081d5b75-8890-4f9a-bbde-8a9915238970",
   "metadata": {
    "tags": []
   },
   "source": [
    "## Create a bucket to store the pipeline yaml "
   ]
  },
  {
   "cell_type": "code",
   "execution_count": 4,
   "id": "1a743637-8b98-471d-ab81-1ee5d2d9ea04",
   "metadata": {
    "tags": []
   },
   "outputs": [
    {
     "name": "stdout",
     "output_type": "stream",
     "text": [
      "Creating gs://kubeflow-mlops-410520-cloudbuild-pipelines/...\n"
     ]
    }
   ],
   "source": [
    "! gsutil mb -l {REGION} -p {PROJECT_ID} {BUCKET_URI}"
   ]
  },
  {
   "cell_type": "markdown",
   "id": "2531ddc8-f63e-4c6e-a90a-69ad21a48170",
   "metadata": {
    "tags": []
   },
   "source": [
    "## Authenticate to Artifact Registry"
   ]
  },
  {
   "cell_type": "code",
   "execution_count": 2,
   "id": "cabc3b5e-526a-444f-a664-86efed16a35b",
   "metadata": {
    "tags": []
   },
   "outputs": [
    {
     "name": "stdout",
     "output_type": "stream",
     "text": [
      "\u001b[1;33mWARNING:\u001b[0m Your config file at [/home/jupyter/.docker/config.json] contains these credential helper entries:\n",
      "\n",
      "{\n",
      "  \"credHelpers\": {\n",
      "    \"gcr.io\": \"gcloud\",\n",
      "    \"us.gcr.io\": \"gcloud\",\n",
      "    \"eu.gcr.io\": \"gcloud\",\n",
      "    \"asia.gcr.io\": \"gcloud\",\n",
      "    \"staging-k8s.gcr.io\": \"gcloud\",\n",
      "    \"marketplace.gcr.io\": \"gcloud\",\n",
      "    \"us-central1-docker.pkg.dev\": \"gcloud\"\n",
      "  }\n",
      "}\n",
      "Adding credentials for: us-central1-docker.pkg.dev\n",
      "gcloud credential helpers already registered correctly.\n"
     ]
    }
   ],
   "source": [
    "! gcloud auth configure-docker us-central1-docker.pkg.dev\n"
   ]
  },
  {
   "cell_type": "code",
   "execution_count": 23,
   "id": "0a795c51-234e-48a0-aa29-90088154ceee",
   "metadata": {
    "tags": []
   },
   "outputs": [],
   "source": [
    "REPO_NAME = \"mlops-starter-repo\""
   ]
  },
  {
   "cell_type": "code",
   "execution_count": 12,
   "id": "6fab3c3e-fc8b-4d48-aff4-d5a5a5d44402",
   "metadata": {
    "tags": []
   },
   "outputs": [
    {
     "name": "stdout",
     "output_type": "stream",
     "text": [
      "Create request issued for: [mlops-starter-repo]\n",
      "Waiting for operation [projects/kubeflow-mlops-410520/locations/us-central1/ope\n",
      "rations/b93785cb-e270-45e9-9400-cfbd1b64e9f4] to complete...done.              \n",
      "Created repository [mlops-starter-repo].\n"
     ]
    }
   ],
   "source": [
    "! gcloud artifacts repositories create {REPO_NAME} --repository-format=docker \\\n",
    "    --location={REGION} --description=\"Docker repository for mlops starter image\" \\\n",
    "    --project={PROJECT_ID}"
   ]
  },
  {
   "cell_type": "markdown",
   "id": "0d9a005d-963b-4f9c-87bb-3b6e81b201d9",
   "metadata": {},
   "source": [
    "## Build and tag the local image"
   ]
  },
  {
   "cell_type": "code",
   "execution_count": 19,
   "id": "0c136206-660e-46c6-bd0d-e8979f1b653a",
   "metadata": {
    "tags": []
   },
   "outputs": [],
   "source": [
    "REPO = REGION + \"-docker.pkg.dev\""
   ]
  },
  {
   "cell_type": "code",
   "execution_count": 20,
   "id": "cd7f540c-6230-4453-ad87-cf3d08737bb4",
   "metadata": {
    "tags": []
   },
   "outputs": [
    {
     "data": {
      "text/plain": [
       "'us-central1-docker.pkg.dev'"
      ]
     },
     "execution_count": 20,
     "metadata": {},
     "output_type": "execute_result"
    }
   ],
   "source": [
    "REPO"
   ]
  },
  {
   "cell_type": "code",
   "execution_count": 27,
   "id": "76a7fc15-c2d9-4639-8279-0d33c1edcae7",
   "metadata": {
    "tags": []
   },
   "outputs": [],
   "source": [
    "REPO_NAME\n",
    "IMAGE_NAME='kfp-truiz-mlops-v3'\n",
    "TAG='latest'\n",
    "IMAGE_URI= REPO+'/{}/{}/{}:{}'.format(PROJECT_ID,REPO_NAME, IMAGE_NAME, TAG)"
   ]
  },
  {
   "cell_type": "code",
   "execution_count": 29,
   "id": "43c0cd22-59d8-41c7-a356-fba99232a0e0",
   "metadata": {
    "tags": []
   },
   "outputs": [
    {
     "data": {
      "text/plain": [
       "'us-central1-docker.pkg.dev/kubeflow-mlops-410520/mlops-starter-repo/kfp-truiz-mlops-v3:latest'"
      ]
     },
     "execution_count": 29,
     "metadata": {},
     "output_type": "execute_result"
    }
   ],
   "source": [
    "IMAGE_URI"
   ]
  },
  {
   "cell_type": "code",
   "execution_count": 34,
   "id": "6af982c4-d4d1-4af3-a46f-106b32b07eb0",
   "metadata": {
    "tags": []
   },
   "outputs": [
    {
     "name": "stdout",
     "output_type": "stream",
     "text": [
      "Sending build context to Docker daemon  19.97kB\n",
      "Step 1/6 : FROM gcr.io/deeplearning-platform-release/base-cpu\n",
      " ---> bc9cd7f2ace0\n",
      "Step 2/6 : WORKDIR /kfp-cli\n",
      " ---> Running in 7d3a851918a3\n",
      "Removing intermediate container 7d3a851918a3\n",
      " ---> 8e540c39a16f\n",
      "Step 3/6 : ADD pipeline.py ./pipeline.py\n",
      " ---> 5325f97747bb\n",
      "Step 4/6 : ADD requirements.txt ./requirements.txt\n",
      " ---> a6175d67ca28\n",
      "Step 5/6 : RUN pip install -r requirements.txt\n",
      " ---> Running in c9c25c6acde2\n",
      "Collecting kfp==2.7.0 (from -r requirements.txt (line 1))\n",
      "  Downloading kfp-2.7.0.tar.gz (441 kB)\n",
      "     ━━━━━━━━━━━━━━━━━━━━━━━━━━━━━━━━━━━━━━━ 441.8/441.8 kB 3.2 MB/s eta 0:00:00\n",
      "  Preparing metadata (setup.py): started\n",
      "  Preparing metadata (setup.py): finished with status 'done'\n",
      "Collecting kfp-pipeline-spec==0.3.0 (from -r requirements.txt (line 2))\n",
      "  Downloading kfp_pipeline_spec-0.3.0-py3-none-any.whl.metadata (329 bytes)\n",
      "Requirement already satisfied: kfp-server-api==2.0.5 in /opt/conda/lib/python3.10/site-packages (from -r requirements.txt (line 3)) (2.0.5)\n",
      "Requirement already satisfied: google-cloud-aiplatform==1.44.0 in /opt/conda/lib/python3.10/site-packages (from -r requirements.txt (line 4)) (1.44.0)\n",
      "Requirement already satisfied: click<9,>=8.0.0 in /opt/conda/lib/python3.10/site-packages (from kfp==2.7.0->-r requirements.txt (line 1)) (8.1.7)\n",
      "Requirement already satisfied: docstring-parser<1,>=0.7.3 in /opt/conda/lib/python3.10/site-packages (from kfp==2.7.0->-r requirements.txt (line 1)) (0.16)\n",
      "Requirement already satisfied: google-api-core!=2.0.*,!=2.1.*,!=2.2.*,!=2.3.0,<3.0.0dev,>=1.31.5 in /opt/conda/lib/python3.10/site-packages (from kfp==2.7.0->-r requirements.txt (line 1)) (1.34.1)\n",
      "Requirement already satisfied: google-auth<3,>=1.6.1 in /opt/conda/lib/python3.10/site-packages (from kfp==2.7.0->-r requirements.txt (line 1)) (2.28.2)\n",
      "Requirement already satisfied: google-cloud-storage<3,>=2.2.1 in /opt/conda/lib/python3.10/site-packages (from kfp==2.7.0->-r requirements.txt (line 1)) (2.14.0)\n",
      "Requirement already satisfied: kubernetes<27,>=8.0.0 in /opt/conda/lib/python3.10/site-packages (from kfp==2.7.0->-r requirements.txt (line 1)) (26.1.0)\n",
      "Collecting protobuf<5,>=4.21.1 (from kfp==2.7.0->-r requirements.txt (line 1))\n",
      "  Downloading protobuf-4.25.3-cp37-abi3-manylinux2014_x86_64.whl.metadata (541 bytes)\n",
      "Requirement already satisfied: PyYAML<7,>=5.3 in /opt/conda/lib/python3.10/site-packages (from kfp==2.7.0->-r requirements.txt (line 1)) (6.0.1)\n",
      "Requirement already satisfied: requests-toolbelt<1,>=0.8.0 in /opt/conda/lib/python3.10/site-packages (from kfp==2.7.0->-r requirements.txt (line 1)) (0.10.1)\n",
      "Requirement already satisfied: tabulate<1,>=0.8.6 in /opt/conda/lib/python3.10/site-packages (from kfp==2.7.0->-r requirements.txt (line 1)) (0.9.0)\n",
      "Requirement already satisfied: urllib3<2.0.0 in /opt/conda/lib/python3.10/site-packages (from kfp==2.7.0->-r requirements.txt (line 1)) (1.26.18)\n",
      "Requirement already satisfied: six>=1.10 in /opt/conda/lib/python3.10/site-packages (from kfp-server-api==2.0.5->-r requirements.txt (line 3)) (1.16.0)\n",
      "Requirement already satisfied: certifi in /opt/conda/lib/python3.10/site-packages (from kfp-server-api==2.0.5->-r requirements.txt (line 3)) (2024.2.2)\n",
      "Requirement already satisfied: python-dateutil in /opt/conda/lib/python3.10/site-packages (from kfp-server-api==2.0.5->-r requirements.txt (line 3)) (2.9.0)\n",
      "Requirement already satisfied: proto-plus<2.0.0dev,>=1.22.0 in /opt/conda/lib/python3.10/site-packages (from google-cloud-aiplatform==1.44.0->-r requirements.txt (line 4)) (1.23.0)\n",
      "Requirement already satisfied: packaging>=14.3 in /opt/conda/lib/python3.10/site-packages (from google-cloud-aiplatform==1.44.0->-r requirements.txt (line 4)) (24.0)\n",
      "Requirement already satisfied: google-cloud-bigquery<4.0.0dev,>=1.15.0 in /opt/conda/lib/python3.10/site-packages (from google-cloud-aiplatform==1.44.0->-r requirements.txt (line 4)) (3.19.0)\n",
      "Requirement already satisfied: google-cloud-resource-manager<3.0.0dev,>=1.3.3 in /opt/conda/lib/python3.10/site-packages (from google-cloud-aiplatform==1.44.0->-r requirements.txt (line 4)) (1.12.3)\n",
      "Requirement already satisfied: shapely<3.0.0dev in /opt/conda/lib/python3.10/site-packages (from google-cloud-aiplatform==1.44.0->-r requirements.txt (line 4)) (2.0.3)\n",
      "Requirement already satisfied: googleapis-common-protos<2.0dev,>=1.56.2 in /opt/conda/lib/python3.10/site-packages (from google-api-core!=2.0.*,!=2.1.*,!=2.2.*,!=2.3.0,<3.0.0dev,>=1.31.5->kfp==2.7.0->-r requirements.txt (line 1)) (1.63.0)\n",
      "INFO: pip is looking at multiple versions of google-api-core to determine which version is compatible with other requirements. This could take a while.\n",
      "Collecting google-api-core!=2.0.*,!=2.1.*,!=2.2.*,!=2.3.0,<3.0.0dev,>=1.31.5 (from kfp==2.7.0->-r requirements.txt (line 1))\n",
      "  Downloading google_api_core-2.18.0-py3-none-any.whl.metadata (2.7 kB)\n",
      "Requirement already satisfied: requests<3.0.0.dev0,>=2.18.0 in /opt/conda/lib/python3.10/site-packages (from google-api-core!=2.0.*,!=2.1.*,!=2.2.*,!=2.3.0,<3.0.0dev,>=1.31.5->kfp==2.7.0->-r requirements.txt (line 1)) (2.31.0)\n",
      "INFO: pip is looking at multiple versions of google-api-core[grpc] to determine which version is compatible with other requirements. This could take a while.\n",
      "Requirement already satisfied: grpcio<2.0dev,>=1.33.2 in /opt/conda/lib/python3.10/site-packages (from google-api-core[grpc]!=2.0.*,!=2.1.*,!=2.2.*,!=2.3.*,!=2.4.*,!=2.5.*,!=2.6.*,!=2.7.*,<3.0.0dev,>=1.34.1->google-cloud-aiplatform==1.44.0->-r requirements.txt (line 4)) (1.62.1)\n",
      "Requirement already satisfied: grpcio-status<2.0.dev0,>=1.33.2 in /opt/conda/lib/python3.10/site-packages (from google-api-core[grpc]!=2.0.*,!=2.1.*,!=2.2.*,!=2.3.*,!=2.4.*,!=2.5.*,!=2.6.*,!=2.7.*,<3.0.0dev,>=1.34.1->google-cloud-aiplatform==1.44.0->-r requirements.txt (line 4)) (1.48.2)\n",
      "Requirement already satisfied: cachetools<6.0,>=2.0.0 in /opt/conda/lib/python3.10/site-packages (from google-auth<3,>=1.6.1->kfp==2.7.0->-r requirements.txt (line 1)) (5.3.3)\n",
      "Requirement already satisfied: pyasn1-modules>=0.2.1 in /opt/conda/lib/python3.10/site-packages (from google-auth<3,>=1.6.1->kfp==2.7.0->-r requirements.txt (line 1)) (0.3.0)\n",
      "Requirement already satisfied: rsa<5,>=3.1.4 in /opt/conda/lib/python3.10/site-packages (from google-auth<3,>=1.6.1->kfp==2.7.0->-r requirements.txt (line 1)) (4.9)\n",
      "Requirement already satisfied: google-cloud-core<3.0.0dev,>=1.6.0 in /opt/conda/lib/python3.10/site-packages (from google-cloud-bigquery<4.0.0dev,>=1.15.0->google-cloud-aiplatform==1.44.0->-r requirements.txt (line 4)) (2.4.1)\n",
      "Requirement already satisfied: google-resumable-media<3.0dev,>=0.6.0 in /opt/conda/lib/python3.10/site-packages (from google-cloud-bigquery<4.0.0dev,>=1.15.0->google-cloud-aiplatform==1.44.0->-r requirements.txt (line 4)) (2.7.0)\n",
      "Requirement already satisfied: grpc-google-iam-v1<1.0.0dev,>=0.12.4 in /opt/conda/lib/python3.10/site-packages (from google-cloud-resource-manager<3.0.0dev,>=1.3.3->google-cloud-aiplatform==1.44.0->-r requirements.txt (line 4)) (0.13.0)\n",
      "Requirement already satisfied: google-crc32c<2.0dev,>=1.0 in /opt/conda/lib/python3.10/site-packages (from google-cloud-storage<3,>=2.2.1->kfp==2.7.0->-r requirements.txt (line 1)) (1.5.0)\n",
      "Requirement already satisfied: setuptools>=21.0.0 in /opt/conda/lib/python3.10/site-packages (from kubernetes<27,>=8.0.0->kfp==2.7.0->-r requirements.txt (line 1)) (69.2.0)\n",
      "Requirement already satisfied: websocket-client!=0.40.0,!=0.41.*,!=0.42.*,>=0.32.0 in /opt/conda/lib/python3.10/site-packages (from kubernetes<27,>=8.0.0->kfp==2.7.0->-r requirements.txt (line 1)) (1.7.0)\n",
      "Requirement already satisfied: requests-oauthlib in /opt/conda/lib/python3.10/site-packages (from kubernetes<27,>=8.0.0->kfp==2.7.0->-r requirements.txt (line 1)) (1.4.0)\n",
      "Requirement already satisfied: numpy<2,>=1.14 in /opt/conda/lib/python3.10/site-packages (from shapely<3.0.0dev->google-cloud-aiplatform==1.44.0->-r requirements.txt (line 4)) (1.25.2)\n",
      "Requirement already satisfied: pyasn1<0.6.0,>=0.4.6 in /opt/conda/lib/python3.10/site-packages (from pyasn1-modules>=0.2.1->google-auth<3,>=1.6.1->kfp==2.7.0->-r requirements.txt (line 1)) (0.5.1)\n",
      "Requirement already satisfied: charset-normalizer<4,>=2 in /opt/conda/lib/python3.10/site-packages (from requests<3.0.0.dev0,>=2.18.0->google-api-core!=2.0.*,!=2.1.*,!=2.2.*,!=2.3.0,<3.0.0dev,>=1.31.5->kfp==2.7.0->-r requirements.txt (line 1)) (3.3.2)\n",
      "Requirement already satisfied: idna<4,>=2.5 in /opt/conda/lib/python3.10/site-packages (from requests<3.0.0.dev0,>=2.18.0->google-api-core!=2.0.*,!=2.1.*,!=2.2.*,!=2.3.0,<3.0.0dev,>=1.31.5->kfp==2.7.0->-r requirements.txt (line 1)) (3.6)\n",
      "Requirement already satisfied: oauthlib>=3.0.0 in /opt/conda/lib/python3.10/site-packages (from requests-oauthlib->kubernetes<27,>=8.0.0->kfp==2.7.0->-r requirements.txt (line 1)) (3.2.2)\n",
      "Downloading kfp_pipeline_spec-0.3.0-py3-none-any.whl (12 kB)\n",
      "Downloading google_api_core-2.18.0-py3-none-any.whl (138 kB)\n",
      "   ━━━━━━━━━━━━━━━━━━━━━━━━━━━━━━━━━━━━━━━━ 138.3/138.3 kB 15.9 MB/s eta 0:00:00\n",
      "Downloading protobuf-4.25.3-cp37-abi3-manylinux2014_x86_64.whl (294 kB)\n",
      "   ━━━━━━━━━━━━━━━━━━━━━━━━━━━━━━━━━━━━━━━━ 294.6/294.6 kB 15.4 MB/s eta 0:00:00\n",
      "Building wheels for collected packages: kfp\n",
      "  Building wheel for kfp (setup.py): started\n",
      "  Building wheel for kfp (setup.py): finished with status 'done'\n",
      "  Created wheel for kfp: filename=kfp-2.7.0-py3-none-any.whl size=610418 sha256=d3488c359d3fbb0a9b32a276d3f2538340bd0487b3beff23333b1d7d12e99ebd\n",
      "  Stored in directory: /root/.cache/pip/wheels/9e/7d/a4/f9d013e82681c9746ef10de3b00456163577a99279c5ed673d\n",
      "Successfully built kfp\n",
      "Installing collected packages: protobuf, kfp-pipeline-spec, google-api-core, kfp\n",
      "  Attempting uninstall: protobuf\n",
      "    Found existing installation: protobuf 3.20.3\n",
      "    Uninstalling protobuf-3.20.3:\n",
      "      Successfully uninstalled protobuf-3.20.3\n",
      "  Attempting uninstall: kfp-pipeline-spec\n",
      "    Found existing installation: kfp-pipeline-spec 0.2.2\n",
      "    Uninstalling kfp-pipeline-spec-0.2.2:\n",
      "      Successfully uninstalled kfp-pipeline-spec-0.2.2\n",
      "  Attempting uninstall: google-api-core\n",
      "    Found existing installation: google-api-core 1.34.1\n",
      "    Uninstalling google-api-core-1.34.1:\n",
      "      Successfully uninstalled google-api-core-1.34.1\n",
      "  Attempting uninstall: kfp\n",
      "    Found existing installation: kfp 2.5.0\n",
      "    Uninstalling kfp-2.5.0:\n",
      "      Successfully uninstalled kfp-2.5.0\n",
      "\u001b[91mERROR: pip's dependency resolver does not currently take into account all the packages that are installed. This behaviour is the source of the following dependency conflicts.\n",
      "google-api-python-client 1.8.0 requires google-api-core<2dev,>=1.13.0, but you have google-api-core 2.18.0 which is incompatible.\n",
      "google-cloud-datastore 1.15.5 requires protobuf<4.0.0dev, but you have protobuf 4.25.3 which is incompatible.\n",
      "\u001b[0mSuccessfully installed google-api-core-2.18.0 kfp-2.7.0 kfp-pipeline-spec-0.3.0 protobuf-4.25.3\n",
      "\u001b[91mWARNING: Running pip as the 'root' user can result in broken permissions and conflicting behaviour with the system package manager. It is recommended to use a virtual environment instead: https://pip.pypa.io/warnings/venv\n",
      "\u001b[0mRemoving intermediate container c9c25c6acde2\n",
      " ---> d5bb92b09ff8\n",
      "Step 6/6 : CMD python ./pipeline.py\n",
      " ---> Running in 8c1158cc2861\n",
      "Removing intermediate container 8c1158cc2861\n",
      " ---> 520ddde9ac5c\n",
      "Successfully built 520ddde9ac5c\n",
      "Successfully tagged my-pipeline-image:latest\n"
     ]
    }
   ],
   "source": [
    "! docker build -t my-pipeline-image:latest ./kfp-cli"
   ]
  },
  {
   "cell_type": "code",
   "execution_count": 35,
   "id": "0dc4f63b-b7c4-49a0-9ec3-775829247a6c",
   "metadata": {
    "tags": []
   },
   "outputs": [],
   "source": [
    "! docker tag my-pipeline-image:latest {IMAGE_URI}"
   ]
  },
  {
   "cell_type": "code",
   "execution_count": null,
   "id": "d614465b-85a0-4356-8bda-21f3f17c59bb",
   "metadata": {
    "tags": []
   },
   "outputs": [
    {
     "name": "stdout",
     "output_type": "stream",
     "text": [
      "Creating temporary tarball archive of 6 file(s) totalling 12.6 KiB before compression.\n",
      "Uploading tarball of [./kfp-cli] to [gs://kubeflow-mlops-410520_cloudbuild/source/1713639360.775992-0024c203bedf4d4ab658ff9908df5e85.tgz]\n",
      "Created [https://cloudbuild.googleapis.com/v1/projects/kubeflow-mlops-410520/locations/global/builds/edd77696-21ee-4f28-adc8-5786dc2e30a8].\n",
      "Logs are available at [ https://console.cloud.google.com/cloud-build/builds/edd77696-21ee-4f28-adc8-5786dc2e30a8?project=990864364836 ].\n",
      "----------------------------- REMOTE BUILD OUTPUT ------------------------------\n",
      "starting build \"edd77696-21ee-4f28-adc8-5786dc2e30a8\"\n",
      "\n",
      "FETCHSOURCE\n",
      "Fetching storage object: gs://kubeflow-mlops-410520_cloudbuild/source/1713639360.775992-0024c203bedf4d4ab658ff9908df5e85.tgz#1713639361019941\n",
      "Copying gs://kubeflow-mlops-410520_cloudbuild/source/1713639360.775992-0024c203bedf4d4ab658ff9908df5e85.tgz#1713639361019941...\n",
      "/ [1 files][  2.8 KiB/  2.8 KiB]                                                \n",
      "Operation completed over 1 objects/2.8 KiB.\n",
      "BUILD\n",
      "Already have image (with digest): gcr.io/cloud-builders/docker\n",
      "Sending build context to Docker daemon  19.97kB\n",
      "Step 1/6 : FROM gcr.io/deeplearning-platform-release/base-cpu\n",
      "latest: Pulling from deeplearning-platform-release/base-cpu\n",
      "3c67549075b6: Pulling fs layer\n",
      "2a0230923fec: Pulling fs layer\n",
      "78c8be333fe4: Pulling fs layer\n",
      "4f4fb700ef54: Pulling fs layer\n",
      "2e21262bb2da: Pulling fs layer\n",
      "f2f6758be993: Pulling fs layer\n",
      "e6c6f92bd366: Pulling fs layer\n",
      "d0fbd25ee0c2: Pulling fs layer\n",
      "c12104b357c7: Pulling fs layer\n",
      "747e68e40a0c: Pulling fs layer\n",
      "826e46bd4e36: Pulling fs layer\n",
      "d3f50712ec8c: Pulling fs layer\n",
      "0aad797bbd40: Pulling fs layer\n",
      "e34c3b984efd: Pulling fs layer\n",
      "a5f135f552d0: Pulling fs layer\n",
      "fdabcba0b732: Pulling fs layer\n",
      "8d6decc95eb9: Pulling fs layer\n",
      "0a58d6f2b80a: Pulling fs layer\n",
      "d4d79014082e: Pulling fs layer\n",
      "baa8e6e82481: Pulling fs layer\n",
      "77ae520072a5: Pulling fs layer\n",
      "4abbe29b0c47: Pulling fs layer\n",
      "49578c2cb69a: Pulling fs layer\n",
      "1799a6e936eb: Pulling fs layer\n",
      "49a186f64039: Pulling fs layer\n",
      "2b46bb1cfc49: Pulling fs layer\n",
      "4f4fb700ef54: Waiting\n",
      "2e21262bb2da: Waiting\n",
      "f2f6758be993: Waiting\n",
      "e6c6f92bd366: Waiting\n",
      "d0fbd25ee0c2: Waiting\n",
      "c12104b357c7: Waiting\n",
      "747e68e40a0c: Waiting\n",
      "826e46bd4e36: Waiting\n",
      "d3f50712ec8c: Waiting\n",
      "0aad797bbd40: Waiting\n",
      "e34c3b984efd: Waiting\n",
      "a5f135f552d0: Waiting\n",
      "fdabcba0b732: Waiting\n",
      "8d6decc95eb9: Waiting\n",
      "0a58d6f2b80a: Waiting\n",
      "d4d79014082e: Waiting\n",
      "baa8e6e82481: Waiting\n",
      "77ae520072a5: Waiting\n",
      "4abbe29b0c47: Waiting\n",
      "49578c2cb69a: Waiting\n",
      "1799a6e936eb: Waiting\n",
      "49a186f64039: Waiting\n",
      "2b46bb1cfc49: Waiting\n",
      "78c8be333fe4: Verifying Checksum\n",
      "78c8be333fe4: Download complete\n",
      "4f4fb700ef54: Verifying Checksum\n",
      "4f4fb700ef54: Download complete\n",
      "3c67549075b6: Verifying Checksum\n",
      "3c67549075b6: Download complete\n",
      "2a0230923fec: Download complete\n",
      "e6c6f92bd366: Verifying Checksum\n",
      "e6c6f92bd366: Download complete\n",
      "d0fbd25ee0c2: Verifying Checksum\n",
      "d0fbd25ee0c2: Download complete\n",
      "c12104b357c7: Verifying Checksum\n",
      "c12104b357c7: Download complete\n",
      "747e68e40a0c: Download complete\n",
      "826e46bd4e36: Verifying Checksum\n",
      "826e46bd4e36: Download complete\n",
      "f2f6758be993: Verifying Checksum\n",
      "f2f6758be993: Download complete\n",
      "0aad797bbd40: Download complete\n",
      "e34c3b984efd: Verifying Checksum\n",
      "e34c3b984efd: Download complete\n",
      "a5f135f552d0: Download complete\n",
      "fdabcba0b732: Verifying Checksum\n",
      "fdabcba0b732: Download complete\n",
      "8d6decc95eb9: Verifying Checksum\n",
      "8d6decc95eb9: Download complete\n",
      "d3f50712ec8c: Verifying Checksum\n",
      "d3f50712ec8c: Download complete\n",
      "0a58d6f2b80a: Verifying Checksum\n",
      "0a58d6f2b80a: Download complete\n",
      "d4d79014082e: Verifying Checksum\n",
      "d4d79014082e: Download complete\n",
      "baa8e6e82481: Verifying Checksum\n",
      "baa8e6e82481: Download complete\n",
      "77ae520072a5: Verifying Checksum\n",
      "77ae520072a5: Download complete\n",
      "2e21262bb2da: Verifying Checksum\n",
      "2e21262bb2da: Download complete\n",
      "4abbe29b0c47: Verifying Checksum\n",
      "4abbe29b0c47: Download complete\n",
      "3c67549075b6: Pull complete\n",
      "1799a6e936eb: Verifying Checksum\n",
      "1799a6e936eb: Download complete\n",
      "49a186f64039: Verifying Checksum\n",
      "49a186f64039: Download complete\n",
      "2b46bb1cfc49: Verifying Checksum\n",
      "2b46bb1cfc49: Download complete\n",
      "2a0230923fec: Pull complete\n",
      "78c8be333fe4: Pull complete\n",
      "4f4fb700ef54: Pull complete\n",
      "49578c2cb69a: Verifying Checksum\n",
      "49578c2cb69a: Download complete\n",
      "2e21262bb2da: Pull complete\n"
     ]
    }
   ],
   "source": [
    "!gcloud builds submit --timeout 15m --tag {IMAGE_URI} ./kfp-cli\n"
   ]
  },
  {
   "cell_type": "code",
   "execution_count": 36,
   "id": "ce8be673-784e-46be-a32f-2419b71e9ee0",
   "metadata": {
    "tags": []
   },
   "outputs": [
    {
     "name": "stdout",
     "output_type": "stream",
     "text": [
      "The push refers to repository [us-central1-docker.pkg.dev/kubeflow-mlops-410520/mlops-starter-repo/kfp-truiz-mlops-v3]\n",
      "\n",
      "\u001b[1Bc21c2338: Preparing \n",
      "\u001b[1B8a37977a: Preparing \n",
      "\u001b[1B52c7e997: Preparing \n",
      "\u001b[1B105b71e8: Preparing \n",
      "\u001b[1B00c300cf: Preparing \n",
      "\u001b[1B22372058: Preparing \n",
      "\u001b[1B3ed6e28f: Preparing \n",
      "\u001b[1Bbf18a086: Preparing \n",
      "\u001b[1Bcd36d636: Preparing \n",
      "\u001b[1B08edf074: Preparing \n",
      "\u001b[1B3af30b89: Preparing \n",
      "\u001b[1Bc2193d47: Preparing \n",
      "\u001b[1B0f136021: Preparing \n",
      "\u001b[1Ba9278219: Preparing \n",
      "\u001b[1Baedb25fb: Preparing \n",
      "\u001b[1Bbd493360: Preparing \n",
      "\u001b[1B17202fd7: Preparing \n",
      "\u001b[1B02978576: Preparing \n",
      "\u001b[1B30c55353: Preparing \n",
      "\u001b[1Bd211571d: Preparing \n",
      "\u001b[1Bdd7f81da: Preparing \n",
      "\u001b[1B5bfbc4f7: Preparing \n",
      "\u001b[1Ba8a076c0: Preparing \n",
      "\u001b[1B70758dcf: Preparing \n",
      "\u001b[18Bf18a086: Preparing \n",
      "\u001b[1Ba91e71ab: Preparing \n",
      "\u001b[20Bf18a086: Preparing \n",
      "\u001b[1Bb4b06423: Preparing \n",
      "\u001b[1Be03c71d2: Preparing \n",
      "\u001b[30B21c2338: Pushed lready exists MBB\u001b[25A\u001b[2K\u001b[30A\u001b[2K\u001b[24A\u001b[2K\u001b[23A\u001b[2K\u001b[22A\u001b[2K\u001b[19A\u001b[2K\u001b[15A\u001b[2K\u001b[12A\u001b[2K\u001b[9A\u001b[2K\u001b[7A\u001b[2K\u001b[1A\u001b[2K\u001b[30A\u001b[2K\u001b[30A\u001b[2Klatest: digest: sha256:fbcfd80b13531f70efe2bdb45492a7a6439556d9e4df6630c55d421c007a8bdf size: 7002\n"
     ]
    }
   ],
   "source": [
    "! docker push {IMAGE_URI}"
   ]
  },
  {
   "cell_type": "code",
   "execution_count": null,
   "id": "bcb93da8-f205-42da-b5bc-b907c4e39768",
   "metadata": {},
   "outputs": [],
   "source": []
  },
  {
   "cell_type": "markdown",
   "id": "6d88e385-0264-4d4d-ba9d-328299bbdc0d",
   "metadata": {
    "tags": []
   },
   "source": [
    "## Build the image using the cloudbuild.yaml file"
   ]
  },
  {
   "cell_type": "code",
   "execution_count": 39,
   "id": "09b1afbf-813b-4f62-a0f9-d8d92a2f10c8",
   "metadata": {
    "tags": []
   },
   "outputs": [
    {
     "name": "stdout",
     "output_type": "stream",
     "text": [
      "Creating temporary tarball archive of 16 file(s) totalling 113.5 KiB before compression.\n",
      "Uploading tarball of [.] to [gs://kubeflow-mlops-410520_cloudbuild/source/1713645971.724949-1339cf2a3a47422e8c464f80e2455b60.tgz]\n",
      "Created [https://cloudbuild.googleapis.com/v1/projects/kubeflow-mlops-410520/locations/global/builds/c5152dcd-392c-403c-b2fe-b807b15156ca].\n",
      "Logs are available at [ https://console.cloud.google.com/cloud-build/builds/c5152dcd-392c-403c-b2fe-b807b15156ca?project=990864364836 ].\n",
      "\n",
      "gcloud builds submit only displays logs from Cloud Storage. To view logs from Cloud Logging, run:\n",
      "gcloud beta builds submit\n",
      "\n",
      "ID                                    CREATE_TIME                DURATION  SOURCE                                                                                               IMAGES  STATUS\n",
      "c5152dcd-392c-403c-b2fe-b807b15156ca  2024-04-20T20:46:12+00:00  3M29S     gs://kubeflow-mlops-410520_cloudbuild/source/1713645971.724949-1339cf2a3a47422e8c464f80e2455b60.tgz  -       SUCCESS\n"
     ]
    }
   ],
   "source": [
    "!gcloud builds submit --config cloudbuild.yaml"
   ]
  }
 ],
 "metadata": {
  "environment": {
   "kernel": "conda-root-py",
   "name": "workbench-notebooks.m113",
   "type": "gcloud",
   "uri": "gcr.io/deeplearning-platform-release/workbench-notebooks:m113"
  },
  "kernelspec": {
   "display_name": "Python 3 (ipykernel) (Local)",
   "language": "python",
   "name": "conda-root-py"
  },
  "language_info": {
   "codemirror_mode": {
    "name": "ipython",
    "version": 3
   },
   "file_extension": ".py",
   "mimetype": "text/x-python",
   "name": "python",
   "nbconvert_exporter": "python",
   "pygments_lexer": "ipython3",
   "version": "3.10.13"
  }
 },
 "nbformat": 4,
 "nbformat_minor": 5
}
