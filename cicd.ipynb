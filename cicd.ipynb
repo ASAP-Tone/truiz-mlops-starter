{
 "cells": [
  {
   "cell_type": "code",
   "execution_count": 2,
   "id": "3d12daea-0a1a-464c-be8d-84b137504508",
   "metadata": {
    "tags": []
   },
   "outputs": [],
   "source": [
    "PROJECT_ID = !(gcloud config get-value core/project)\n",
    "PROJECT_ID = PROJECT_ID[0]\n",
    "REGION = 'us-central1'\n",
    "BUCKET_URI = 'gs://kubeflow-mlops-410520-cloudbuild-pipelines'"
   ]
  },
  {
   "cell_type": "code",
   "execution_count": null,
   "id": "c3f8c6b2-0c37-43f1-a057-a25cd0c76dd0",
   "metadata": {},
   "outputs": [],
   "source": []
  },
  {
   "cell_type": "code",
   "execution_count": 1,
   "id": "df36c0c5-3744-4563-9383-3bd8f4d4ac2a",
   "metadata": {
    "tags": []
   },
   "outputs": [
    {
     "name": "stdout",
     "output_type": "stream",
     "text": [
      "Overwriting kfp-cli/Dockerfile\n"
     ]
    }
   ],
   "source": [
    "%%writefile kfp-cli/Dockerfile\n",
    "\n",
    "\n",
    "FROM gcr.io/deeplearning-platform-release/base-cpu\n",
    "WORKDIR /kfp-cli\n",
    "ADD pipeline.py ./pipeline.py\n",
    "ADD requirements.txt ./requirements.txt\n",
    "RUN pip install -r requirements.txt\n",
    "# RUN pip install kfp==2.7.0\n",
    "# RUN pip install google-cloud-aiplatform==1.44.0\n",
    "CMD python ./pipeline.py\n",
    "#ENTRYPOINT [\"/bin/bash\"]"
   ]
  },
  {
   "cell_type": "markdown",
   "id": "081d5b75-8890-4f9a-bbde-8a9915238970",
   "metadata": {
    "tags": []
   },
   "source": [
    "## create a bucket to house our pipeline yaml "
   ]
  },
  {
   "cell_type": "code",
   "execution_count": 4,
   "id": "1a743637-8b98-471d-ab81-1ee5d2d9ea04",
   "metadata": {
    "tags": []
   },
   "outputs": [
    {
     "name": "stdout",
     "output_type": "stream",
     "text": [
      "Creating gs://kubeflow-mlops-410520-cloudbuild-pipelines/...\n"
     ]
    }
   ],
   "source": [
    "! gsutil mb -l {REGION} -p {PROJECT_ID} {BUCKET_URI}"
   ]
  },
  {
   "cell_type": "code",
   "execution_count": 4,
   "id": "76a7fc15-c2d9-4639-8279-0d33c1edcae7",
   "metadata": {
    "tags": []
   },
   "outputs": [],
   "source": [
    "IMAGE_NAME='kfp-truiz-mlops-v2'\n",
    "TAG='latest'\n",
    "IMAGE_URI='gcr.io/{}/{}:{}'.format(PROJECT_ID, IMAGE_NAME, TAG)"
   ]
  },
  {
   "cell_type": "code",
   "execution_count": null,
   "id": "a9bd54a2-8f98-4081-be41-09510f6443d2",
   "metadata": {},
   "outputs": [],
   "source": [
    "! docker build -t my-image:latest .  "
   ]
  },
  {
   "cell_type": "code",
   "execution_count": 3,
   "id": "d614465b-85a0-4356-8bda-21f3f17c59bb",
   "metadata": {
    "tags": []
   },
   "outputs": [
    {
     "name": "stdout",
     "output_type": "stream",
     "text": [
      "\u001b[1;31mERROR:\u001b[0m (gcloud.builds.submit) Invalid value for [--tag]: Tag value must be in the *gcr.io* or *pkg.dev* namespace.\n"
     ]
    }
   ],
   "source": [
    "!gcloud builds submit --timeout 15m --tag {IMAGE_URI} kfp-cli\n"
   ]
  },
  {
   "cell_type": "code",
   "execution_count": 6,
   "id": "09b1afbf-813b-4f62-a0f9-d8d92a2f10c8",
   "metadata": {
    "tags": []
   },
   "outputs": [
    {
     "name": "stdout",
     "output_type": "stream",
     "text": [
      "Creating temporary tarball archive of 6 file(s) totalling 12.8 KiB before compression.\n",
      "Uploading tarball of [./kfp-cli] to [gs://kubeflow-mlops-410520_cloudbuild/source/1712691159.633853-751f6828b16f4826aa66e873f271297f.tgz]\n",
      "Created [https://cloudbuild.googleapis.com/v1/projects/kubeflow-mlops-410520/locations/global/builds/662f9c1a-4a5f-497a-8f7e-daeb44cf0e4e].\n",
      "Logs are available at [ https://console.cloud.google.com/cloud-build/builds/662f9c1a-4a5f-497a-8f7e-daeb44cf0e4e?project=990864364836 ].\n",
      "\n",
      "gcloud builds submit only displays logs from Cloud Storage. To view logs from Cloud Logging, run:\n",
      "gcloud beta builds submit\n",
      "\n",
      "ID                                    CREATE_TIME                DURATION  SOURCE                                                                                               IMAGES  STATUS\n",
      "662f9c1a-4a5f-497a-8f7e-daeb44cf0e4e  2024-04-09T19:32:40+00:00  3M37S     gs://kubeflow-mlops-410520_cloudbuild/source/1712691159.633853-751f6828b16f4826aa66e873f271297f.tgz  -       SUCCESS\n"
     ]
    }
   ],
   "source": [
    "!gcloud builds submit ./kfp-cli --config cloudbuild.yaml"
   ]
  }
 ],
 "metadata": {
  "environment": {
   "kernel": "conda-root-py",
   "name": "workbench-notebooks.m113",
   "type": "gcloud",
   "uri": "gcr.io/deeplearning-platform-release/workbench-notebooks:m113"
  },
  "kernelspec": {
   "display_name": "Python 3 (ipykernel) (Local)",
   "language": "python",
   "name": "conda-root-py"
  },
  "language_info": {
   "codemirror_mode": {
    "name": "ipython",
    "version": 3
   },
   "file_extension": ".py",
   "mimetype": "text/x-python",
   "name": "python",
   "nbconvert_exporter": "python",
   "pygments_lexer": "ipython3",
   "version": "3.10.13"
  }
 },
 "nbformat": 4,
 "nbformat_minor": 5
}
