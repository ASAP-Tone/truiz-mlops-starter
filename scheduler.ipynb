{
 "cells": [
  {
   "cell_type": "code",
   "execution_count": 1,
   "id": "7ee48101-1f00-41aa-80cb-92ff3af3804b",
   "metadata": {
    "tags": []
   },
   "outputs": [],
   "source": [
    "\n",
    "\n",
    "from google.cloud import aiplatform\n",
    "\n",
    "PROJECT_ID = !(gcloud config get-value core/project)\n",
    "PROJECT_ID = PROJECT_ID[0]\n",
    "REGION = 'us-central1'\n",
    "COMPILED_PIPELINE_PATH  = 'gs://' + PROJECT_ID+ '-cloudbuild-pipelines/xgb-pipeline.yaml'\n",
    "\n",
    "PIPELINE_ROOT_PATH = \"gs://\" + PROJECT_ID + \"-bucket\" + \"/pipeline_root/\"\n",
    "\n"
   ]
  },
  {
   "cell_type": "code",
   "execution_count": 6,
   "id": "8c8bc197-74b6-4f45-8b58-eba879a01bdc",
   "metadata": {
    "tags": []
   },
   "outputs": [
    {
     "data": {
      "text/plain": [
       "'gs://kubeflow-mlops-410520-cloudbuild-pipelines'"
      ]
     },
     "execution_count": 6,
     "metadata": {},
     "output_type": "execute_result"
    }
   ],
   "source": [
    "# COMPILED_PIPELINE_PATH\n",
    "# PIPELINE_ROOT_PATH"
   ]
  },
  {
   "cell_type": "code",
   "execution_count": 12,
   "id": "fe25d044-c9ff-415c-a873-985f4b06e044",
   "metadata": {
    "tags": []
   },
   "outputs": [
    {
     "name": "stdout",
     "output_type": "stream",
     "text": [
      "Creating PipelineJobSchedule\n",
      "PipelineJobSchedule created. Resource name: projects/990864364836/locations/us-central1/schedules/3233769250405482496\n",
      "To use this PipelineJobSchedule in another session:\n",
      "schedule = aiplatform.PipelineJobSchedule.get('projects/990864364836/locations/us-central1/schedules/3233769250405482496')\n",
      "View Schedule:\n",
      "https://console.cloud.google.com/vertex-ai/locations/us-central1/pipelines/schedules/3233769250405482496?project=990864364836\n"
     ]
    }
   ],
   "source": [
    "\n",
    "\n",
    "pipeline_job = aiplatform.PipelineJob(\n",
    "  template_path=COMPILED_PIPELINE_PATH,\n",
    "  pipeline_root= PIPELINE_ROOT_PATH,\n",
    "  display_name=\"xgb-pipeline\",\n",
    ")\n",
    "\n",
    "pipeline_job_schedule = pipeline_job.create_schedule(\n",
    "  display_name=\"weekly_training_and_deployment\",\n",
    "  cron= \"30 18 * * 6\", # weekly 6pm UTC time on saturday\n",
    "  max_concurrent_run_count= 1,\n",
    "  max_run_count= 1,\n",
    ")\n"
   ]
  }
 ],
 "metadata": {
  "environment": {
   "kernel": "conda-root-py",
   "name": "workbench-notebooks.m113",
   "type": "gcloud",
   "uri": "gcr.io/deeplearning-platform-release/workbench-notebooks:m113"
  },
  "kernelspec": {
   "display_name": "Python 3 (ipykernel) (Local)",
   "language": "python",
   "name": "conda-root-py"
  },
  "language_info": {
   "codemirror_mode": {
    "name": "ipython",
    "version": 3
   },
   "file_extension": ".py",
   "mimetype": "text/x-python",
   "name": "python",
   "nbconvert_exporter": "python",
   "pygments_lexer": "ipython3",
   "version": "3.10.13"
  }
 },
 "nbformat": 4,
 "nbformat_minor": 5
}
